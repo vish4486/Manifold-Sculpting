version https://git-lfs.github.com/spec/v1
oid sha256:4dd151fc73fd883d0fada091a7d6b219f23041b026c95ac1718cb35b9e86cf74
size 3673007
